{
 "cells": [
  {
   "cell_type": "markdown",
   "metadata": {},
   "source": [
    "[Markdown Demo](#markdown)"
   ]
  },
  {
   "cell_type": "code",
   "execution_count": 1,
   "metadata": {},
   "outputs": [],
   "source": [
    "a = 10"
   ]
  },
  {
   "cell_type": "code",
   "execution_count": 2,
   "metadata": {},
   "outputs": [
    {
     "name": "stdout",
     "output_type": "stream",
     "text": [
      "10\n"
     ]
    }
   ],
   "source": [
    "print(a)"
   ]
  },
  {
   "cell_type": "code",
   "execution_count": 3,
   "metadata": {},
   "outputs": [
    {
     "name": "stdout",
     "output_type": "stream",
     "text": [
      "1 - 1\n",
      "2 - 4\n",
      "3 - 9\n",
      "4 - 16\n",
      "5 - 25\n",
      "6 - 36\n",
      "7 - 49\n",
      "8 - 64\n",
      "9 - 81\n"
     ]
    }
   ],
   "source": [
    "for i in range(1,a):\n",
    "     print(f\"{i} - {i * i}\")"
   ]
  },
  {
   "cell_type": "code",
   "execution_count": 4,
   "metadata": {},
   "outputs": [],
   "source": [
    "import requests"
   ]
  },
  {
   "cell_type": "code",
   "execution_count": 5,
   "metadata": {
    "collapsed": true,
    "jupyter": {
     "outputs_hidden": true
    }
   },
   "outputs": [
    {
     "data": {
      "text/plain": [
       "'<?xml version=\"1.0\" encoding=\"UTF-8\" ?>\\r\\n<rss version=\"2.0\">\\r\\n <channel>\\r\\n  <title>Srikanth Technologies By P.Srikanth</title>\\r\\n  <link>http://www.srikanthtechnologies.com</link>\\r\\n  <description>Website of Srikanth Technologies, which is founded and run by Srikanth Pragada. He has more than \\r\\n  16 years of experience in training and a Sun Certified Java Programmer (SCJP 5.0), Sun Certified Web Component Developer (SCWCD 1.4)\\r\\n  ,Sun Certified Business Component Developer (SCBCD 5.0), Microsoft Certified Technology Specialist for .NET 4 (Web Applications),\\r\\n  Oracle Certified SQL Expert and Oracle Certified PL/SQL Associate.\\r\\n  </description>\\r\\n  <lastBuildDate>Tue, 10 Mar 2020 17:00:00 IST</lastBuildDate>\\r\\n  <generator></generator>\\r\\n  <docs></docs>\\r\\n\\r\\n  <item>\\r\\n     <title>Video Tutorial - Learning Path for Software Developers</title>\\r\\n     <link>https://youtu.be/tB0VH-2AoBI</link>\\r\\n     <description>\\r\\n     Here is recommended learning path to follow for students aspiring to become web and mobile application developers.\\r\\n     </description>\\r\\n     <pubDate>Fri, 13 Mar 2020 17:30:00</pubDate>\\r\\n   </item>\\r\\n\\r\\n\\r\\n\\r\\n   <item>\\r\\n     <title>Video Tutorial - Compile-time Polymorphism vs. Runtime Polymorphism</title>\\r\\n     <link>https://youtu.be/MkBelZskmNc</link>\\r\\n     <description>\\r\\n       In this video, you learn the difference between Compile-time Polymorphism and Runtime Polymorphism in Java\\r\\n     </description>\\r\\n     <pubDate>Tue, 10 Mar 2020 14:00:00</pubDate>\\r\\n   </item>\\r\\n\\r\\n\\r\\n   <item>\\r\\n     <title>\\r\\n       Blog -  To-dos Application using Spring MVC + Hibernate + Derby\\r\\n     </title>\\r\\n     <link>http://www.srikanthtechnologies.com/blog/java/spring/spring_hibernate_todos.aspx</link>\\r\\n     <description>\\r\\n       This blog shows how to build a web application developed using Spring MVC + Hibernate + Derby to keep track of To-dos\\r\\n     </description>\\r\\n     <pubDate>Sun, 01 Mar 2020 11:30:00</pubDate>\\r\\n   </item>\\r\\n\\r\\n   <item>\\r\\n     <title>\\r\\n       Blog - How to use Apache Derby from JDBC\\r\\n     </title>\\r\\n     <link>http://www.srikanthtechnologies.com/blog/java/using_derby.aspx</link>\\r\\n     <description>\\r\\n      In this blog you learn how to access Apache Derby (Java DB) from JDBC\\r\\n     </description>\\r\\n     <pubDate>Sat, 29 Feb 2020 11:00:00</pubDate>\\r\\n   </item>\\r\\n\\r\\n   <item>\\r\\n     <title>Video Tutorial - Using Apache Derby (Java DB) from JDBC</title>\\r\\n     <link>https://youtu.be/flERv6JErPo</link>\\r\\n     <description>\\r\\n       In this video, you learn how to access Apache Derby (Java DB) from JDBC\\r\\n     </description>\\r\\n     <pubDate>Sat, 29 Feb 2020 11:00:00</pubDate>\\r\\n   </item>\\r\\n\\r\\n   <item>\\r\\n     <title>Video Tutorial - How to integrate Tomcat with Eclipse</title>\\r\\n     <link>https://youtu.be/flERv6JErPo</link>\\r\\n     <description>\\r\\n     In this video, you learn how to add Tomcat server to Eclipse IDE\\r\\n    </description>\\r\\n     <pubDate>Mon, 10 Feb 2020 17:00:00</pubDate>\\r\\n   </item>\\r\\n\\r\\n\\r\\n\\r\\n   <item>\\r\\n     <title>\\r\\n       Blog - Looking back at 2019\\r\\n     </title>\\r\\n     <link>http://www.srikanthtechnologies.com/blog/personal/2019/lookback2019.aspx</link>\\r\\n     <description>\\r\\n       Blog - A summary of important events of my life in 2019.\\r\\n     </description>\\r\\n     <pubDate>Wed, 1 Jan 2020 10:00:00</pubDate>\\r\\n   </item>\\r\\n\\r\\n   <item>\\r\\n     <title>\\r\\n       Blog - New features of Python 3.8\\r\\n     </title>\\r\\n     <link>http://www.srikanthtechnologies.com/blog/python/new_features_3.8.aspx</link>\\r\\n     <description>\\r\\n     In this blog, I show how to use new features of Python 3.8.\\r\\n     </description>\\r\\n     <pubDate>Sat, 30 Nov 2019 09:00:00</pubDate>\\r\\n   </item>\\r\\n\\r\\n  <item>\\r\\n     <title>Video Tutorial - Upcasting and Downcasting in Java\\r\\n   </title>\\r\\n     <link>https://youtu.be/s7_QoTP1x_g</link>\\r\\n     <description>\\r\\n     In this video, I explain upcasting and downcasting in Java\\r\\n    </description>\\r\\n     <pubDate>Wed, 27 Nov 2019 09:00:00</pubDate>\\r\\n   </item>\\r\\n\\r\\n\\r\\n  <item>\\r\\n     <title>Video Tutorial - How to use Lamdba Expressions in Java\\r\\n   </title>\\r\\n     <link>https://youtu.be/nYw5ckaEIS0</link>\\r\\n     <description>\\r\\n     In this video, I demonstrate how to use Lambda Expression, Lambda Blocks, and Method Reference in Java 8 and above. \\r\\n    </description>\\r\\n     <pubDate>Sun, 24 Nov 2019 09:00:00</pubDate>\\r\\n   </item>\\r\\n\\r\\n\\r\\n  <item>\\r\\n     <title>Video Tutorial - Top-N Analysis in Oracle Database\\r\\n   </title>\\r\\n     <link>https://youtu.be/n3-4y8XAKEY</link>\\r\\n     <description>\\r\\n     In this video, I show how to perform Top-N Analysis in Oracle Database 11g and 18c.\\r\\n    </description>\\r\\n     <pubDate>Tue, 19 Nov 2019 09:00:00</pubDate>\\r\\n   </item>\\r\\n   \\r\\n   <item>\\r\\n     <title>Video Tutorial - Why to override equals(), hashCode() and toString() methods \\r\\n     of Object class in Java.     \\r\\n   </title>\\r\\n     <link>https://youtu.be/WB1Jia3sXh0</link>\\r\\n     <description>\\r\\n     In this video, I explain why to overriding equals(), hashCode() and toString() methods of\\r\\n     Object class in Java.\\r\\n    </description>\\r\\n     <pubDate>Sat, 16 Nov 2019 09:00:00</pubDate>\\r\\n   </item>\\r\\n   \\r\\n   \\r\\n   <item>\\r\\n     <title>Video Tutorial - Understand how method resolution order(MRO) works with Multiple Inheritance\\r\\n     in Python.\\r\\n   </title>\\r\\n     <link>https://youtu.be/tViLEZXUO3U</link>\\r\\n     <description>\\r\\n     In this video, I explain how MRO (Method Resolution Order) works in Python while\\r\\n     implementing multiple inheritance.\\r\\n     </description>\\r\\n     <pubDate>Fri, 15 Nov 2019 09:00:00</pubDate>\\r\\n   </item>\\r\\n   \\r\\n   <item>\\r\\n     <title>Video Tutorial - Learn how to get started with Django Framework\\r\\n   </title>\\r\\n     <link>https://youtu.be/N0h0v_3FvRE</link>\\r\\n     <description>\\r\\n      This video shows how to install Django, create project and application in Django Framework.\\r\\n     </description>\\r\\n     <pubDate>Thu, 14 Nov 2019 09:00:00</pubDate>\\r\\n   </item>\\r\\n\\r\\n   <item>\\r\\n     <title>Blog - Deploying Machine Learning Model</title>\\r\\n     <link>http://www.srikanthtechnologies.com/blog/python/deploy_model/deploy_ml_model.aspx</link>\\r\\n     <description>\\r\\n       In this blog, I show how to build and deploy a Machine Learning model so that it can be used\\r\\n       from a Web Application built with Django.\\r\\n     </description>\\r\\n     <pubDate>Sat, 02 Nov 2019 12:00:00</pubDate>\\r\\n   </item>\\r\\n\\r\\n   <item>\\r\\n     <title>Video Tutorial - How to use SQL Developer with Oracle Database 18c XE\\r\\n   </title>\\r\\n     <link>https://youtu.be/oQ92BaGuvdI</link>\\r\\n     <description>\\r\\n      This video shows how to install SQL Developer and connect to pluggable database in Oracle Database 18c Express Edition (XE).\\r\\n     </description>\\r\\n     <pubDate>Tue, 27 Aug 2019 09:00:00</pubDate>\\r\\n   </item>\\r\\n\\r\\n\\r\\n   <item>\\r\\n     <title>Video Tutorial - How to install Oracle Database 18c XE and unlock HR account\\r\\n   </title>\\r\\n     <link>https://youtu.be/wKvojzCCdBk</link>\\r\\n     <description>\\r\\n      This video shows how to install Oracle Database 18c XE and connect to pluggable database without having to change any configuration files in Oracle. It also shows how to unlock HR account in pluggable database.\\r\\n     </description>\\r\\n     <pubDate>Tue, 27 Aug 2019 09:00:00</pubDate>\\r\\n   </item>\\r\\n\\r\\n   <item>\\r\\n     <title>New edition of - C Language For Beginners - book available now</title>\\r\\n     <link>http://www.srikanthtechnologies.com/books/cbook_2019/cbook.aspx</link>\\r\\n     <description>\\r\\n     Enhanced - C Language For Beginners - book and made hard copy available at Srikanth Technologies\\r\\n     and Kindle version at Amazon.\\r\\n     </description>\\r\\n     <pubDate>Sun, 25 Aug 2019 12:00:00</pubDate>\\r\\n   </item>\\r\\n   \\r\\n   <item>\\r\\n     <title>My Favourites </title>\\r\\n     <link>http://www.srikanthtechnologies.com/favourites.aspx</link>\\r\\n     <description>\\r\\n      Added a new section in which I listed my favourite websites, books and videos.\\r\\n     </description>\\r\\n     <pubDate>Sat, 24 Aug 2019 12:00:00</pubDate>\\r\\n   </item>\\r\\n\\r\\n   <item>\\r\\n     <title>Blog - Enable CORS in Django</title>\\r\\n     <link>http://www.srikanthtechnologies.com/blog/python/enable_cors_for_django.aspx</link>\\r\\n     <description>\\r\\n       In this blog, we understand how to enable CORS (Cross-Origin Resource Sharing) in Django.\\r\\n     </description>\\r\\n     <pubDate>Tue, 09 Jul 2019 12:00:00</pubDate>\\r\\n   </item>\\r\\n   \\r\\n\\r\\n   <item>\\r\\n     <title>Blog - Oracle + Django ORM</title>\\r\\n     <link>http://www.srikanthtechnologies.com/blog/python/django_oracle_orm.aspx</link>\\r\\n     <description>\\r\\n       In this blog, we understand how to access Oracle database using Django ORM.\\r\\n     </description>\\r\\n     <pubDate>Wed, 26 Jun 2019 12:00:00</pubDate>\\r\\n   </item>\\r\\n\\r\\n   <item>\\r\\n     <title>Blog - Deploying Spring MVC Application To Tomcat</title>\\r\\n     <link>http://www.srikanthtechnologies.com/blog/java/spring/deploy_springmvc.aspx</link>\\r\\n     <description>\\r\\n       In this blog, I walk you through the steps to deploy a Spring MVC application developed \\r\\n       using Spring Boot to Tomcat Server.\\r\\n     </description>\\r\\n     <pubDate>Sat, 22 Jun 2019 12:00:00</pubDate>\\r\\n   </item>\\r\\n\\r\\n   \\r\\n   <item>\\r\\n     <title>Blog - How to use jQuery Datepicker in Angular</title>\\r\\n     <link>http://www.srikanthtechnologies.com/blog/angular/angular_jquery.aspx</link>\\r\\n     <description>\\r\\n      In this blog, I show how to use jQuery UI\\'s Datepicker component in Angular to take date from user.\\r\\n     </description>\\r\\n     <pubDate>Mon, 06 May 2019 12:00:00</pubDate>\\r\\n   </item>\\r\\n\\r\\n\\r\\n    <item>\\r\\n     <title>Blog - Looking back at 2018</title>\\r\\n     <link>http://www.srikanthtechnologies.com/blog/personal/2018/lookback2018.aspx</link>\\r\\n     <description>\\r\\n       Here is a summary of events in my life in 2018.\\r\\n     </description>\\r\\n     <pubDate>Sat, 5 Jan 2019 12:00:00</pubDate>\\r\\n   </item>\\r\\n\\r\\n   <item>\\r\\n     <title>Blog - Adding JAR to Local Repository</title>\\r\\n     <link>http://www.srikanthtechnologies.com/blog/java/localrepo.aspx</link>\\r\\n     <description>\\r\\n       In this blog, I show how to add a JAR file to Local Repository so that Maven can use it.\\r\\n     </description>\\r\\n     <pubDate>Wed, 31 OCT 2018 12:00:00</pubDate>\\r\\n   </item>\\r\\n\\r\\n\\r\\n   <item>\\r\\n     <title>\\r\\n       My new course - \\'C\\' Interview Questions - at Udemy\\r\\n     </title>\\r\\n     <link>http://www.srikanthtechnologies.com/blog/personal/udemy_course.aspx</link>\\r\\n     <description>\\r\\n     Here is my new FREE course at Udemy to help students prepare for C Language Interviews.\\r\\n     </description>\\r\\n     <pubDate>Thu, 25 Oct 2018 09:00:00</pubDate>\\r\\n   </item>\\r\\n   \\r\\n  \\r\\n </channel>\\r\\n</rss>\\r\\n'"
      ]
     },
     "execution_count": 5,
     "metadata": {},
     "output_type": "execute_result"
    }
   ],
   "source": [
    "resp = requests.get(\"http://www.srikanthtechnologies.com/rss.xml\")\n",
    "resp.text"
   ]
  },
  {
   "cell_type": "markdown",
   "metadata": {},
   "source": [
    "# Demo"
   ]
  },
  {
   "cell_type": "markdown",
   "metadata": {},
   "source": [
    "<a id=\"#markdown\"></a>\n",
    "## Markdown demo\n",
    "\n",
    "<a href=\"http://www.srikanthtechnologies.com\">Website</a>"
   ]
  },
  {
   "cell_type": "markdown",
   "metadata": {},
   "source": [
    "### Sample Data - Raw Cell "
   ]
  },
  {
   "cell_type": "raw",
   "metadata": {},
   "source": [
    "10,20,30\n",
    "20,304,55\n",
    "44,55,66"
   ]
  },
  {
   "cell_type": "markdown",
   "metadata": {},
   "source": [
    "**bold string**   *Italic String*"
   ]
  },
  {
   "cell_type": "markdown",
   "metadata": {},
   "source": [
    "`10,20,30\n",
    "20,304,55\n",
    "44,55,66`"
   ]
  },
  {
   "cell_type": "markdown",
   "metadata": {},
   "source": [
    "#### Important Libraries\n",
    "- Numpy\n",
    "- Pandas\n",
    "- Seaborn"
   ]
  },
  {
   "cell_type": "markdown",
   "metadata": {},
   "source": [
    "#### Important Topics\n",
    "1. Statistics\n",
    "1. Data Wrangling\n",
    "1. ML \n",
    "1. Deployment"
   ]
  },
  {
   "cell_type": "code",
   "execution_count": 8,
   "metadata": {},
   "outputs": [],
   "source": [
    "import datetime"
   ]
  },
  {
   "cell_type": "code",
   "execution_count": 11,
   "metadata": {},
   "outputs": [
    {
     "data": {
      "text/plain": [
       "datetime.datetime(2020, 4, 9, 8, 27, 2, 501571)"
      ]
     },
     "execution_count": 11,
     "metadata": {},
     "output_type": "execute_result"
    }
   ],
   "source": [
    "datetime.datetime.now()"
   ]
  },
  {
   "cell_type": "markdown",
   "metadata": {},
   "source": [
    "<div class=\"alert alert-block alert-info\">\n",
    "Blue Box\n",
    "</div>\n",
    "\n",
    "<div class=\"alert alert-block alert-danger\">\n",
    "Dangerous!\n",
    "</div>"
   ]
  },
  {
   "cell_type": "code",
   "execution_count": 12,
   "metadata": {},
   "outputs": [
    {
     "data": {
      "text/html": [
       "<img src=\"http://www.srikanthtechnologies.com/logo.jpg\"/>"
      ],
      "text/plain": [
       "<IPython.core.display.Image object>"
      ]
     },
     "execution_count": 12,
     "metadata": {},
     "output_type": "execute_result"
    }
   ],
   "source": [
    "from IPython.display import Image\n",
    "Image(url =\"http://www.srikanthtechnologies.com/logo.jpg\")"
   ]
  },
  {
   "cell_type": "markdown",
   "metadata": {},
   "source": [
    "## Shell Commands"
   ]
  },
  {
   "cell_type": "code",
   "execution_count": 13,
   "metadata": {},
   "outputs": [
    {
     "name": "stdout",
     "output_type": "stream",
     "text": [
      "c:\\classroom\\apr6ds\n"
     ]
    }
   ],
   "source": [
    "!cd"
   ]
  },
  {
   "cell_type": "code",
   "execution_count": 15,
   "metadata": {},
   "outputs": [
    {
     "name": "stdout",
     "output_type": "stream",
     "text": [
      " Volume in drive C is OS\n",
      " Volume Serial Number is D874-1F97\n",
      "\n",
      " Directory of c:\\classroom\\apr6ds\n",
      "\n",
      "09-04-2020  08:36    <DIR>          .\n",
      "09-04-2020  08:36    <DIR>          ..\n",
      "08-04-2020  09:04             1,940 .gitignore\n",
      "08-04-2020  08:38    <DIR>          .ipynb_checkpoints\n",
      "09-04-2020  08:36            16,799 notebook_demo.ipynb\n",
      "08-04-2020  09:06               171 upload.bat\n",
      "               3 File(s)         18,910 bytes\n",
      "               3 Dir(s)  36,664,172,544 bytes free\n"
     ]
    }
   ],
   "source": [
    "!dir"
   ]
  },
  {
   "cell_type": "code",
   "execution_count": 16,
   "metadata": {},
   "outputs": [
    {
     "name": "stdout",
     "output_type": "stream",
     "text": [
      " Volume in drive C is OS\n",
      " Volume Serial Number is D874-1F97\n",
      "\n",
      " Directory of c:\\classroom\\apr6ds\n",
      "\n",
      "09-04-2020  08:36            16,799 notebook_demo.ipynb\n",
      "               1 File(s)         16,799 bytes\n",
      "               0 Dir(s)  36,663,681,024 bytes free\n"
     ]
    }
   ],
   "source": [
    "! dir *.ipynb"
   ]
  },
  {
   "cell_type": "code",
   "execution_count": 17,
   "metadata": {},
   "outputs": [],
   "source": [
    "files = ! dir *.ipynb"
   ]
  },
  {
   "cell_type": "code",
   "execution_count": 18,
   "metadata": {},
   "outputs": [
    {
     "data": {
      "text/plain": [
       "[' Volume in drive C is OS',\n",
       " ' Volume Serial Number is D874-1F97',\n",
       " '',\n",
       " ' Directory of c:\\\\classroom\\\\apr6ds',\n",
       " '',\n",
       " '09-04-2020  08:36            16,799 notebook_demo.ipynb',\n",
       " '               1 File(s)         16,799 bytes',\n",
       " '               0 Dir(s)  36,663,681,024 bytes free']"
      ]
     },
     "execution_count": 18,
     "metadata": {},
     "output_type": "execute_result"
    }
   ],
   "source": [
    "files"
   ]
  },
  {
   "cell_type": "code",
   "execution_count": 19,
   "metadata": {},
   "outputs": [],
   "source": [
    "lines = !type langs.txt"
   ]
  },
  {
   "cell_type": "code",
   "execution_count": 20,
   "metadata": {},
   "outputs": [
    {
     "data": {
      "text/plain": [
       "['Python', 'Java', 'C#', 'JavaScript', 'PLSQL']"
      ]
     },
     "execution_count": 20,
     "metadata": {},
     "output_type": "execute_result"
    }
   ],
   "source": [
    "lines"
   ]
  },
  {
   "cell_type": "code",
   "execution_count": 21,
   "metadata": {},
   "outputs": [
    {
     "name": "stdout",
     "output_type": "stream",
     "text": [
      "Python\n",
      "Java\n",
      "C#\n",
      "JavaScript\n",
      "PLSQL\n"
     ]
    }
   ],
   "source": [
    "fn = \"langs.txt\"\n",
    "!type {fn}"
   ]
  },
  {
   "cell_type": "markdown",
   "metadata": {},
   "source": [
    "## Magic Functions"
   ]
  },
  {
   "cell_type": "code",
   "execution_count": 17,
   "metadata": {},
   "outputs": [
    {
     "name": "stdout",
     "output_type": "stream",
     "text": [
      "a = 10\n",
      "print(a)\n",
      "for i in range(1,a):\n",
      "     print(f\"{i} - {i * i}\")\n",
      "import requests\n",
      "resp = requests.get(\"http://www.srikanthtechnologies.com/rss.xml\")\n",
      "resp.text\n",
      "import datetime\n",
      "datetime.datetime.now()\n",
      "from IPython.display import Image\n",
      "Image(url =\"http://www.srikanthtechnologies.com/logo.jpg\")\n",
      "!cd\n",
      "!dir\n",
      "! dir *.ipynb\n",
      "files = ! dir *.ipynb\n",
      "files\n",
      "lines = !type langs.txt\n",
      "lines\n",
      "fn = \"langs.txt\"\n",
      "!type {fn}\n",
      "%history\n"
     ]
    }
   ],
   "source": [
    "%history"
   ]
  },
  {
   "cell_type": "code",
   "execution_count": 18,
   "metadata": {},
   "outputs": [
    {
     "data": {
      "application/json": {
       "cell": {
        "!": "OSMagics",
        "HTML": "Other",
        "SVG": "Other",
        "bash": "Other",
        "capture": "ExecutionMagics",
        "cmd": "Other",
        "debug": "ExecutionMagics",
        "file": "Other",
        "html": "DisplayMagics",
        "javascript": "DisplayMagics",
        "js": "DisplayMagics",
        "latex": "DisplayMagics",
        "markdown": "DisplayMagics",
        "perl": "Other",
        "prun": "ExecutionMagics",
        "pypy": "Other",
        "python": "Other",
        "python2": "Other",
        "python3": "Other",
        "ruby": "Other",
        "script": "ScriptMagics",
        "sh": "Other",
        "svg": "DisplayMagics",
        "sx": "OSMagics",
        "system": "OSMagics",
        "time": "ExecutionMagics",
        "timeit": "ExecutionMagics",
        "writefile": "OSMagics"
       },
       "line": {
        "alias": "OSMagics",
        "alias_magic": "BasicMagics",
        "autoawait": "AsyncMagics",
        "autocall": "AutoMagics",
        "automagic": "AutoMagics",
        "autosave": "KernelMagics",
        "bookmark": "OSMagics",
        "cd": "OSMagics",
        "clear": "KernelMagics",
        "cls": "KernelMagics",
        "colors": "BasicMagics",
        "conda": "PackagingMagics",
        "config": "ConfigMagics",
        "connect_info": "KernelMagics",
        "copy": "Other",
        "ddir": "Other",
        "debug": "ExecutionMagics",
        "dhist": "OSMagics",
        "dirs": "OSMagics",
        "doctest_mode": "BasicMagics",
        "echo": "Other",
        "ed": "Other",
        "edit": "KernelMagics",
        "env": "OSMagics",
        "gui": "BasicMagics",
        "hist": "Other",
        "history": "HistoryMagics",
        "killbgscripts": "ScriptMagics",
        "ldir": "Other",
        "less": "KernelMagics",
        "load": "CodeMagics",
        "load_ext": "ExtensionMagics",
        "loadpy": "CodeMagics",
        "logoff": "LoggingMagics",
        "logon": "LoggingMagics",
        "logstart": "LoggingMagics",
        "logstate": "LoggingMagics",
        "logstop": "LoggingMagics",
        "ls": "Other",
        "lsmagic": "BasicMagics",
        "macro": "ExecutionMagics",
        "magic": "BasicMagics",
        "matplotlib": "PylabMagics",
        "mkdir": "Other",
        "more": "KernelMagics",
        "notebook": "BasicMagics",
        "page": "BasicMagics",
        "pastebin": "CodeMagics",
        "pdb": "ExecutionMagics",
        "pdef": "NamespaceMagics",
        "pdoc": "NamespaceMagics",
        "pfile": "NamespaceMagics",
        "pinfo": "NamespaceMagics",
        "pinfo2": "NamespaceMagics",
        "pip": "PackagingMagics",
        "popd": "OSMagics",
        "pprint": "BasicMagics",
        "precision": "BasicMagics",
        "prun": "ExecutionMagics",
        "psearch": "NamespaceMagics",
        "psource": "NamespaceMagics",
        "pushd": "OSMagics",
        "pwd": "OSMagics",
        "pycat": "OSMagics",
        "pylab": "PylabMagics",
        "qtconsole": "KernelMagics",
        "quickref": "BasicMagics",
        "recall": "HistoryMagics",
        "rehashx": "OSMagics",
        "reload_ext": "ExtensionMagics",
        "ren": "Other",
        "rep": "Other",
        "rerun": "HistoryMagics",
        "reset": "NamespaceMagics",
        "reset_selective": "NamespaceMagics",
        "rmdir": "Other",
        "run": "ExecutionMagics",
        "save": "CodeMagics",
        "sc": "OSMagics",
        "set_env": "OSMagics",
        "store": "StoreMagics",
        "sx": "OSMagics",
        "system": "OSMagics",
        "tb": "ExecutionMagics",
        "time": "ExecutionMagics",
        "timeit": "ExecutionMagics",
        "unalias": "OSMagics",
        "unload_ext": "ExtensionMagics",
        "who": "NamespaceMagics",
        "who_ls": "NamespaceMagics",
        "whos": "NamespaceMagics",
        "xdel": "NamespaceMagics",
        "xmode": "BasicMagics"
       }
      },
      "text/plain": [
       "Available line magics:\n",
       "%alias  %alias_magic  %autoawait  %autocall  %automagic  %autosave  %bookmark  %cd  %clear  %cls  %colors  %conda  %config  %connect_info  %copy  %ddir  %debug  %dhist  %dirs  %doctest_mode  %echo  %ed  %edit  %env  %gui  %hist  %history  %killbgscripts  %ldir  %less  %load  %load_ext  %loadpy  %logoff  %logon  %logstart  %logstate  %logstop  %ls  %lsmagic  %macro  %magic  %matplotlib  %mkdir  %more  %notebook  %page  %pastebin  %pdb  %pdef  %pdoc  %pfile  %pinfo  %pinfo2  %pip  %popd  %pprint  %precision  %prun  %psearch  %psource  %pushd  %pwd  %pycat  %pylab  %qtconsole  %quickref  %recall  %rehashx  %reload_ext  %ren  %rep  %rerun  %reset  %reset_selective  %rmdir  %run  %save  %sc  %set_env  %store  %sx  %system  %tb  %time  %timeit  %unalias  %unload_ext  %who  %who_ls  %whos  %xdel  %xmode\n",
       "\n",
       "Available cell magics:\n",
       "%%!  %%HTML  %%SVG  %%bash  %%capture  %%cmd  %%debug  %%file  %%html  %%javascript  %%js  %%latex  %%markdown  %%perl  %%prun  %%pypy  %%python  %%python2  %%python3  %%ruby  %%script  %%sh  %%svg  %%sx  %%system  %%time  %%timeit  %%writefile\n",
       "\n",
       "Automagic is ON, % prefix IS NOT needed for line magics."
      ]
     },
     "execution_count": 18,
     "metadata": {},
     "output_type": "execute_result"
    }
   ],
   "source": [
    "%lsmagic"
   ]
  },
  {
   "cell_type": "code",
   "execution_count": 19,
   "metadata": {},
   "outputs": [
    {
     "data": {
      "text/plain": [
       "'C:\\\\classroom\\\\apr6ds'"
      ]
     },
     "execution_count": 19,
     "metadata": {},
     "output_type": "execute_result"
    }
   ],
   "source": [
    "%pwd"
   ]
  },
  {
   "cell_type": "code",
   "execution_count": 20,
   "metadata": {},
   "outputs": [
    {
     "name": "stdout",
     "output_type": "stream",
     "text": [
      "Image\t a\t datetime\t files\t fn\t i\t lines\t requests\t resp\t \n",
      "\n"
     ]
    }
   ],
   "source": [
    "%who"
   ]
  },
  {
   "cell_type": "code",
   "execution_count": 36,
   "metadata": {},
   "outputs": [
    {
     "data": {
      "application/javascript": [
       "// alert(\"Hello!\")\n"
      ],
      "text/plain": [
       "<IPython.core.display.Javascript object>"
      ]
     },
     "metadata": {},
     "output_type": "display_data"
    }
   ],
   "source": [
    "%%js\n",
    "// alert(\"Hello!\")"
   ]
  },
  {
   "cell_type": "code",
   "execution_count": 22,
   "metadata": {
    "jupyter": {
     "source_hidden": true
    }
   },
   "outputs": [
    {
     "data": {
      "text/html": [
       "<h1>HTML</h1>\n",
       "<ul>\n",
       "<li>Numpy</li>\n",
       "<li>Pandas </li>\n",
       "</ul>\n"
      ],
      "text/plain": [
       "<IPython.core.display.HTML object>"
      ]
     },
     "metadata": {},
     "output_type": "display_data"
    }
   ],
   "source": [
    "%%html\n",
    "<h1>HTML</h1>\n",
    "<ul>\n",
    "<li>Numpy</li>\n",
    "<li>Pandas </li>\n",
    "</ul>"
   ]
  },
  {
   "cell_type": "code",
   "execution_count": 23,
   "metadata": {},
   "outputs": [
    {
     "name": "stdout",
     "output_type": "stream",
     "text": [
      "Writing names.txt\n"
     ]
    }
   ],
   "source": [
    "%%writefile names.txt\n",
    "Java\n",
    "Python\n",
    "C#"
   ]
  },
  {
   "cell_type": "code",
   "execution_count": 25,
   "metadata": {},
   "outputs": [],
   "source": [
    "%%capture numbers\n",
    "for i in range(1,10):\n",
    "    print(i)"
   ]
  },
  {
   "cell_type": "code",
   "execution_count": 26,
   "metadata": {},
   "outputs": [
    {
     "data": {
      "text/plain": [
       "'1\\n2\\n3\\n4\\n5\\n6\\n7\\n8\\n9\\n'"
      ]
     },
     "execution_count": 26,
     "metadata": {},
     "output_type": "execute_result"
    }
   ],
   "source": [
    "numbers.stdout"
   ]
  },
  {
   "cell_type": "code",
   "execution_count": 34,
   "metadata": {},
   "outputs": [
    {
     "name": "stdout",
     "output_type": "stream",
     "text": [
      "258 µs ± 39.7 µs per loop (mean ± std. dev. of 7 runs, 5 loops each)\n"
     ]
    }
   ],
   "source": [
    "%%timeit -n 5\n",
    "squares = []\n",
    "for n in range(1,1000):\n",
    "      squares.append(n * n)"
   ]
  },
  {
   "cell_type": "code",
   "execution_count": 35,
   "metadata": {},
   "outputs": [
    {
     "name": "stdout",
     "output_type": "stream",
     "text": [
      "171 µs ± 42.7 µs per loop (mean ± std. dev. of 7 runs, 5 loops each)\n"
     ]
    }
   ],
   "source": [
    "%%timeit -n 5\n",
    "squares2 = [ n * n  for n in range(1,1000)]"
   ]
  },
  {
   "cell_type": "code",
   "execution_count": 37,
   "metadata": {},
   "outputs": [],
   "source": [
    "a = 10\n",
    "\n",
    "b = 20\n",
    "c = 30"
   ]
  },
  {
   "cell_type": "code",
   "execution_count": 38,
   "metadata": {},
   "outputs": [
    {
     "name": "stdout",
     "output_type": "stream",
     "text": [
      "10\n"
     ]
    }
   ],
   "source": [
    "print(a)"
   ]
  },
  {
   "cell_type": "code",
   "execution_count": 40,
   "metadata": {},
   "outputs": [
    {
     "data": {
      "text/plain": [
       "'1\\n2\\n3\\n4\\n5\\n6\\n7\\n8\\n9\\n'"
      ]
     },
     "execution_count": 40,
     "metadata": {},
     "output_type": "execute_result"
    }
   ],
   "source": [
    "Out[26]"
   ]
  },
  {
   "cell_type": "code",
   "execution_count": 41,
   "metadata": {},
   "outputs": [
    {
     "data": {
      "text/plain": [
       "['',\n",
       " 'a = 10',\n",
       " 'print(a)',\n",
       " 'for i in range(1,a):\\n     print(f\"{i} - {i * i}\")',\n",
       " 'import requests',\n",
       " 'resp = requests.get(\"http://www.srikanthtechnologies.com/rss.xml\")\\nresp.text',\n",
       " 'import datetime',\n",
       " 'datetime.datetime.now()',\n",
       " 'from IPython.display import Image\\nImage(url =\"http://www.srikanthtechnologies.com/logo.jpg\")',\n",
       " \"get_ipython().system('cd')\",\n",
       " \"get_ipython().system('dir')\",\n",
       " \"get_ipython().system(' dir *.ipynb')\",\n",
       " \"files = get_ipython().getoutput(' dir *.ipynb')\",\n",
       " 'files',\n",
       " \"lines = get_ipython().getoutput('type langs.txt')\",\n",
       " 'lines',\n",
       " 'fn = \"langs.txt\"\\nget_ipython().system(\\'type {fn}\\')',\n",
       " \"get_ipython().run_line_magic('history', '')\",\n",
       " \"get_ipython().run_line_magic('lsmagic', '')\",\n",
       " \"get_ipython().run_line_magic('pwd', '')\",\n",
       " \"get_ipython().run_line_magic('who', '')\",\n",
       " 'get_ipython().run_cell_magic(\\'js\\', \\'\\', \\'alert(\"HellO!\")\\\\n\\')',\n",
       " \"get_ipython().run_cell_magic('html', '', '<h1>HTML</h1>\\\\n<ul>\\\\n<li>Numpy</li>\\\\n<li>Pandas </li>\\\\n</ul>\\\\n')\",\n",
       " \"get_ipython().run_cell_magic('writefile', 'names.txt', 'Java\\\\nPython\\\\nC#\\\\n')\",\n",
       " \"get_ipython().run_cell_magic('capture', 'numbers.txt', 'for i in range(1,10):\\\\n    print(i)\\\\n')\",\n",
       " \"get_ipython().run_cell_magic('capture', 'numbers', 'for i in range(1,10):\\\\n    print(i)\\\\n')\",\n",
       " 'numbers.stdout',\n",
       " 'squares = []\\nfor n in range(1,1000):\\n      squares.append(n * n)',\n",
       " 'squares2 = [ n * n  for n in range(1,1000)]',\n",
       " \"get_ipython().run_cell_magic('timeit', '', 'squares = []\\\\nfor n in range(1,1000):\\\\n      squares.append(n * n)\\\\n')\",\n",
       " \"get_ipython().run_cell_magic('timeit', '-n 10', 'squares = []\\\\nfor n in range(1,1000):\\\\n      squares.append(n * n)\\\\n')\",\n",
       " \"get_ipython().run_cell_magic('timeit', '-n 10', 'squares2 = [ n * n  for n in range(1,1000)]\\\\n')\",\n",
       " \"get_ipython().run_cell_magic('timeit', '-n 100', 'squares = []\\\\nfor n in range(1,1000):\\\\n      squares.append(n * n)\\\\n')\",\n",
       " \"get_ipython().run_cell_magic('timeit', '-n 100', 'squares2 = [ n * n  for n in range(1,1000)]\\\\n')\",\n",
       " \"get_ipython().run_cell_magic('timeit', '-n 5', 'squares = []\\\\nfor n in range(1,1000):\\\\n      squares.append(n * n)\\\\n')\",\n",
       " \"get_ipython().run_cell_magic('timeit', '-n 5', 'squares2 = [ n * n  for n in range(1,1000)]\\\\n')\",\n",
       " 'get_ipython().run_cell_magic(\\'js\\', \\'\\', \\'// alert(\"Hello!\")\\\\n\\')',\n",
       " 'a = 10\\n\\nb = 20\\nc = 30',\n",
       " 'print(a)',\n",
       " 'Out',\n",
       " 'Out[26]',\n",
       " 'In']"
      ]
     },
     "execution_count": 41,
     "metadata": {},
     "output_type": "execute_result"
    }
   ],
   "source": [
    "In"
   ]
  },
  {
   "cell_type": "code",
   "execution_count": 42,
   "metadata": {},
   "outputs": [
    {
     "data": {
      "text/plain": [
       "{5: '<?xml version=\"1.0\" encoding=\"UTF-8\" ?>\\r\\n<rss version=\"2.0\">\\r\\n <channel>\\r\\n  <title>Srikanth Technologies By P.Srikanth</title>\\r\\n  <link>http://www.srikanthtechnologies.com</link>\\r\\n  <description>Website of Srikanth Technologies, which is founded and run by Srikanth Pragada. He has more than \\r\\n  16 years of experience in training and a Sun Certified Java Programmer (SCJP 5.0), Sun Certified Web Component Developer (SCWCD 1.4)\\r\\n  ,Sun Certified Business Component Developer (SCBCD 5.0), Microsoft Certified Technology Specialist for .NET 4 (Web Applications),\\r\\n  Oracle Certified SQL Expert and Oracle Certified PL/SQL Associate.\\r\\n  </description>\\r\\n  <lastBuildDate>Tue, 10 Mar 2020 17:00:00 IST</lastBuildDate>\\r\\n  <generator></generator>\\r\\n  <docs></docs>\\r\\n\\r\\n  <item>\\r\\n     <title>Video Tutorial - Learning Path for Software Developers</title>\\r\\n     <link>https://youtu.be/tB0VH-2AoBI</link>\\r\\n     <description>\\r\\n     Here is recommended learning path to follow for students aspiring to become web and mobile application developers.\\r\\n     </description>\\r\\n     <pubDate>Fri, 13 Mar 2020 17:30:00</pubDate>\\r\\n   </item>\\r\\n\\r\\n\\r\\n\\r\\n   <item>\\r\\n     <title>Video Tutorial - Compile-time Polymorphism vs. Runtime Polymorphism</title>\\r\\n     <link>https://youtu.be/MkBelZskmNc</link>\\r\\n     <description>\\r\\n       In this video, you learn the difference between Compile-time Polymorphism and Runtime Polymorphism in Java\\r\\n     </description>\\r\\n     <pubDate>Tue, 10 Mar 2020 14:00:00</pubDate>\\r\\n   </item>\\r\\n\\r\\n\\r\\n   <item>\\r\\n     <title>\\r\\n       Blog -  To-dos Application using Spring MVC + Hibernate + Derby\\r\\n     </title>\\r\\n     <link>http://www.srikanthtechnologies.com/blog/java/spring/spring_hibernate_todos.aspx</link>\\r\\n     <description>\\r\\n       This blog shows how to build a web application developed using Spring MVC + Hibernate + Derby to keep track of To-dos\\r\\n     </description>\\r\\n     <pubDate>Sun, 01 Mar 2020 11:30:00</pubDate>\\r\\n   </item>\\r\\n\\r\\n   <item>\\r\\n     <title>\\r\\n       Blog - How to use Apache Derby from JDBC\\r\\n     </title>\\r\\n     <link>http://www.srikanthtechnologies.com/blog/java/using_derby.aspx</link>\\r\\n     <description>\\r\\n      In this blog you learn how to access Apache Derby (Java DB) from JDBC\\r\\n     </description>\\r\\n     <pubDate>Sat, 29 Feb 2020 11:00:00</pubDate>\\r\\n   </item>\\r\\n\\r\\n   <item>\\r\\n     <title>Video Tutorial - Using Apache Derby (Java DB) from JDBC</title>\\r\\n     <link>https://youtu.be/flERv6JErPo</link>\\r\\n     <description>\\r\\n       In this video, you learn how to access Apache Derby (Java DB) from JDBC\\r\\n     </description>\\r\\n     <pubDate>Sat, 29 Feb 2020 11:00:00</pubDate>\\r\\n   </item>\\r\\n\\r\\n   <item>\\r\\n     <title>Video Tutorial - How to integrate Tomcat with Eclipse</title>\\r\\n     <link>https://youtu.be/flERv6JErPo</link>\\r\\n     <description>\\r\\n     In this video, you learn how to add Tomcat server to Eclipse IDE\\r\\n    </description>\\r\\n     <pubDate>Mon, 10 Feb 2020 17:00:00</pubDate>\\r\\n   </item>\\r\\n\\r\\n\\r\\n\\r\\n   <item>\\r\\n     <title>\\r\\n       Blog - Looking back at 2019\\r\\n     </title>\\r\\n     <link>http://www.srikanthtechnologies.com/blog/personal/2019/lookback2019.aspx</link>\\r\\n     <description>\\r\\n       Blog - A summary of important events of my life in 2019.\\r\\n     </description>\\r\\n     <pubDate>Wed, 1 Jan 2020 10:00:00</pubDate>\\r\\n   </item>\\r\\n\\r\\n   <item>\\r\\n     <title>\\r\\n       Blog - New features of Python 3.8\\r\\n     </title>\\r\\n     <link>http://www.srikanthtechnologies.com/blog/python/new_features_3.8.aspx</link>\\r\\n     <description>\\r\\n     In this blog, I show how to use new features of Python 3.8.\\r\\n     </description>\\r\\n     <pubDate>Sat, 30 Nov 2019 09:00:00</pubDate>\\r\\n   </item>\\r\\n\\r\\n  <item>\\r\\n     <title>Video Tutorial - Upcasting and Downcasting in Java\\r\\n   </title>\\r\\n     <link>https://youtu.be/s7_QoTP1x_g</link>\\r\\n     <description>\\r\\n     In this video, I explain upcasting and downcasting in Java\\r\\n    </description>\\r\\n     <pubDate>Wed, 27 Nov 2019 09:00:00</pubDate>\\r\\n   </item>\\r\\n\\r\\n\\r\\n  <item>\\r\\n     <title>Video Tutorial - How to use Lamdba Expressions in Java\\r\\n   </title>\\r\\n     <link>https://youtu.be/nYw5ckaEIS0</link>\\r\\n     <description>\\r\\n     In this video, I demonstrate how to use Lambda Expression, Lambda Blocks, and Method Reference in Java 8 and above. \\r\\n    </description>\\r\\n     <pubDate>Sun, 24 Nov 2019 09:00:00</pubDate>\\r\\n   </item>\\r\\n\\r\\n\\r\\n  <item>\\r\\n     <title>Video Tutorial - Top-N Analysis in Oracle Database\\r\\n   </title>\\r\\n     <link>https://youtu.be/n3-4y8XAKEY</link>\\r\\n     <description>\\r\\n     In this video, I show how to perform Top-N Analysis in Oracle Database 11g and 18c.\\r\\n    </description>\\r\\n     <pubDate>Tue, 19 Nov 2019 09:00:00</pubDate>\\r\\n   </item>\\r\\n   \\r\\n   <item>\\r\\n     <title>Video Tutorial - Why to override equals(), hashCode() and toString() methods \\r\\n     of Object class in Java.     \\r\\n   </title>\\r\\n     <link>https://youtu.be/WB1Jia3sXh0</link>\\r\\n     <description>\\r\\n     In this video, I explain why to overriding equals(), hashCode() and toString() methods of\\r\\n     Object class in Java.\\r\\n    </description>\\r\\n     <pubDate>Sat, 16 Nov 2019 09:00:00</pubDate>\\r\\n   </item>\\r\\n   \\r\\n   \\r\\n   <item>\\r\\n     <title>Video Tutorial - Understand how method resolution order(MRO) works with Multiple Inheritance\\r\\n     in Python.\\r\\n   </title>\\r\\n     <link>https://youtu.be/tViLEZXUO3U</link>\\r\\n     <description>\\r\\n     In this video, I explain how MRO (Method Resolution Order) works in Python while\\r\\n     implementing multiple inheritance.\\r\\n     </description>\\r\\n     <pubDate>Fri, 15 Nov 2019 09:00:00</pubDate>\\r\\n   </item>\\r\\n   \\r\\n   <item>\\r\\n     <title>Video Tutorial - Learn how to get started with Django Framework\\r\\n   </title>\\r\\n     <link>https://youtu.be/N0h0v_3FvRE</link>\\r\\n     <description>\\r\\n      This video shows how to install Django, create project and application in Django Framework.\\r\\n     </description>\\r\\n     <pubDate>Thu, 14 Nov 2019 09:00:00</pubDate>\\r\\n   </item>\\r\\n\\r\\n   <item>\\r\\n     <title>Blog - Deploying Machine Learning Model</title>\\r\\n     <link>http://www.srikanthtechnologies.com/blog/python/deploy_model/deploy_ml_model.aspx</link>\\r\\n     <description>\\r\\n       In this blog, I show how to build and deploy a Machine Learning model so that it can be used\\r\\n       from a Web Application built with Django.\\r\\n     </description>\\r\\n     <pubDate>Sat, 02 Nov 2019 12:00:00</pubDate>\\r\\n   </item>\\r\\n\\r\\n   <item>\\r\\n     <title>Video Tutorial - How to use SQL Developer with Oracle Database 18c XE\\r\\n   </title>\\r\\n     <link>https://youtu.be/oQ92BaGuvdI</link>\\r\\n     <description>\\r\\n      This video shows how to install SQL Developer and connect to pluggable database in Oracle Database 18c Express Edition (XE).\\r\\n     </description>\\r\\n     <pubDate>Tue, 27 Aug 2019 09:00:00</pubDate>\\r\\n   </item>\\r\\n\\r\\n\\r\\n   <item>\\r\\n     <title>Video Tutorial - How to install Oracle Database 18c XE and unlock HR account\\r\\n   </title>\\r\\n     <link>https://youtu.be/wKvojzCCdBk</link>\\r\\n     <description>\\r\\n      This video shows how to install Oracle Database 18c XE and connect to pluggable database without having to change any configuration files in Oracle. It also shows how to unlock HR account in pluggable database.\\r\\n     </description>\\r\\n     <pubDate>Tue, 27 Aug 2019 09:00:00</pubDate>\\r\\n   </item>\\r\\n\\r\\n   <item>\\r\\n     <title>New edition of - C Language For Beginners - book available now</title>\\r\\n     <link>http://www.srikanthtechnologies.com/books/cbook_2019/cbook.aspx</link>\\r\\n     <description>\\r\\n     Enhanced - C Language For Beginners - book and made hard copy available at Srikanth Technologies\\r\\n     and Kindle version at Amazon.\\r\\n     </description>\\r\\n     <pubDate>Sun, 25 Aug 2019 12:00:00</pubDate>\\r\\n   </item>\\r\\n   \\r\\n   <item>\\r\\n     <title>My Favourites </title>\\r\\n     <link>http://www.srikanthtechnologies.com/favourites.aspx</link>\\r\\n     <description>\\r\\n      Added a new section in which I listed my favourite websites, books and videos.\\r\\n     </description>\\r\\n     <pubDate>Sat, 24 Aug 2019 12:00:00</pubDate>\\r\\n   </item>\\r\\n\\r\\n   <item>\\r\\n     <title>Blog - Enable CORS in Django</title>\\r\\n     <link>http://www.srikanthtechnologies.com/blog/python/enable_cors_for_django.aspx</link>\\r\\n     <description>\\r\\n       In this blog, we understand how to enable CORS (Cross-Origin Resource Sharing) in Django.\\r\\n     </description>\\r\\n     <pubDate>Tue, 09 Jul 2019 12:00:00</pubDate>\\r\\n   </item>\\r\\n   \\r\\n\\r\\n   <item>\\r\\n     <title>Blog - Oracle + Django ORM</title>\\r\\n     <link>http://www.srikanthtechnologies.com/blog/python/django_oracle_orm.aspx</link>\\r\\n     <description>\\r\\n       In this blog, we understand how to access Oracle database using Django ORM.\\r\\n     </description>\\r\\n     <pubDate>Wed, 26 Jun 2019 12:00:00</pubDate>\\r\\n   </item>\\r\\n\\r\\n   <item>\\r\\n     <title>Blog - Deploying Spring MVC Application To Tomcat</title>\\r\\n     <link>http://www.srikanthtechnologies.com/blog/java/spring/deploy_springmvc.aspx</link>\\r\\n     <description>\\r\\n       In this blog, I walk you through the steps to deploy a Spring MVC application developed \\r\\n       using Spring Boot to Tomcat Server.\\r\\n     </description>\\r\\n     <pubDate>Sat, 22 Jun 2019 12:00:00</pubDate>\\r\\n   </item>\\r\\n\\r\\n   \\r\\n   <item>\\r\\n     <title>Blog - How to use jQuery Datepicker in Angular</title>\\r\\n     <link>http://www.srikanthtechnologies.com/blog/angular/angular_jquery.aspx</link>\\r\\n     <description>\\r\\n      In this blog, I show how to use jQuery UI\\'s Datepicker component in Angular to take date from user.\\r\\n     </description>\\r\\n     <pubDate>Mon, 06 May 2019 12:00:00</pubDate>\\r\\n   </item>\\r\\n\\r\\n\\r\\n    <item>\\r\\n     <title>Blog - Looking back at 2018</title>\\r\\n     <link>http://www.srikanthtechnologies.com/blog/personal/2018/lookback2018.aspx</link>\\r\\n     <description>\\r\\n       Here is a summary of events in my life in 2018.\\r\\n     </description>\\r\\n     <pubDate>Sat, 5 Jan 2019 12:00:00</pubDate>\\r\\n   </item>\\r\\n\\r\\n   <item>\\r\\n     <title>Blog - Adding JAR to Local Repository</title>\\r\\n     <link>http://www.srikanthtechnologies.com/blog/java/localrepo.aspx</link>\\r\\n     <description>\\r\\n       In this blog, I show how to add a JAR file to Local Repository so that Maven can use it.\\r\\n     </description>\\r\\n     <pubDate>Wed, 31 OCT 2018 12:00:00</pubDate>\\r\\n   </item>\\r\\n\\r\\n\\r\\n   <item>\\r\\n     <title>\\r\\n       My new course - \\'C\\' Interview Questions - at Udemy\\r\\n     </title>\\r\\n     <link>http://www.srikanthtechnologies.com/blog/personal/udemy_course.aspx</link>\\r\\n     <description>\\r\\n     Here is my new FREE course at Udemy to help students prepare for C Language Interviews.\\r\\n     </description>\\r\\n     <pubDate>Thu, 25 Oct 2018 09:00:00</pubDate>\\r\\n   </item>\\r\\n   \\r\\n  \\r\\n </channel>\\r\\n</rss>\\r\\n',\n",
       " 7: datetime.datetime(2020, 4, 10, 8, 4, 34, 216068),\n",
       " 8: <IPython.core.display.Image object>,\n",
       " 13: [' Volume in drive C is OS',\n",
       "  ' Volume Serial Number is D874-1F97',\n",
       "  '',\n",
       "  ' Directory of C:\\\\classroom\\\\apr6ds',\n",
       "  '',\n",
       "  '09-04-2020  08:43            19,501 notebook_demo.ipynb',\n",
       "  '               1 File(s)         19,501 bytes',\n",
       "  '               0 Dir(s)  45,546,438,656 bytes free'],\n",
       " 15: ['Python', 'Java', 'C#', 'JavaScript', 'PLSQL'],\n",
       " 18: Available line magics:\n",
       "%alias  %alias_magic  %autoawait  %autocall  %automagic  %autosave  %bookmark  %cd  %clear  %cls  %colors  %conda  %config  %connect_info  %copy  %ddir  %debug  %dhist  %dirs  %doctest_mode  %echo  %ed  %edit  %env  %gui  %hist  %history  %killbgscripts  %ldir  %less  %load  %load_ext  %loadpy  %logoff  %logon  %logstart  %logstate  %logstop  %ls  %lsmagic  %macro  %magic  %matplotlib  %mkdir  %more  %notebook  %page  %pastebin  %pdb  %pdef  %pdoc  %pfile  %pinfo  %pinfo2  %pip  %popd  %pprint  %precision  %prun  %psearch  %psource  %pushd  %pwd  %pycat  %pylab  %qtconsole  %quickref  %recall  %rehashx  %reload_ext  %ren  %rep  %rerun  %reset  %reset_selective  %rmdir  %run  %save  %sc  %set_env  %store  %sx  %system  %tb  %time  %timeit  %unalias  %unload_ext  %who  %who_ls  %whos  %xdel  %xmode\n",
       "\n",
       "Available cell magics:\n",
       "%%!  %%HTML  %%SVG  %%bash  %%capture  %%cmd  %%debug  %%file  %%html  %%javascript  %%js  %%latex  %%markdown  %%perl  %%prun  %%pypy  %%python  %%python2  %%python3  %%ruby  %%script  %%sh  %%svg  %%sx  %%system  %%time  %%timeit  %%writefile\n",
       "\n",
       "Automagic is ON, % prefix IS NOT needed for line magics.,\n",
       " 19: 'C:\\\\classroom\\\\apr6ds',\n",
       " 26: '1\\n2\\n3\\n4\\n5\\n6\\n7\\n8\\n9\\n',\n",
       " 40: '1\\n2\\n3\\n4\\n5\\n6\\n7\\n8\\n9\\n',\n",
       " 41: ['',\n",
       "  'a = 10',\n",
       "  'print(a)',\n",
       "  'for i in range(1,a):\\n     print(f\"{i} - {i * i}\")',\n",
       "  'import requests',\n",
       "  'resp = requests.get(\"http://www.srikanthtechnologies.com/rss.xml\")\\nresp.text',\n",
       "  'import datetime',\n",
       "  'datetime.datetime.now()',\n",
       "  'from IPython.display import Image\\nImage(url =\"http://www.srikanthtechnologies.com/logo.jpg\")',\n",
       "  \"get_ipython().system('cd')\",\n",
       "  \"get_ipython().system('dir')\",\n",
       "  \"get_ipython().system(' dir *.ipynb')\",\n",
       "  \"files = get_ipython().getoutput(' dir *.ipynb')\",\n",
       "  'files',\n",
       "  \"lines = get_ipython().getoutput('type langs.txt')\",\n",
       "  'lines',\n",
       "  'fn = \"langs.txt\"\\nget_ipython().system(\\'type {fn}\\')',\n",
       "  \"get_ipython().run_line_magic('history', '')\",\n",
       "  \"get_ipython().run_line_magic('lsmagic', '')\",\n",
       "  \"get_ipython().run_line_magic('pwd', '')\",\n",
       "  \"get_ipython().run_line_magic('who', '')\",\n",
       "  'get_ipython().run_cell_magic(\\'js\\', \\'\\', \\'alert(\"HellO!\")\\\\n\\')',\n",
       "  \"get_ipython().run_cell_magic('html', '', '<h1>HTML</h1>\\\\n<ul>\\\\n<li>Numpy</li>\\\\n<li>Pandas </li>\\\\n</ul>\\\\n')\",\n",
       "  \"get_ipython().run_cell_magic('writefile', 'names.txt', 'Java\\\\nPython\\\\nC#\\\\n')\",\n",
       "  \"get_ipython().run_cell_magic('capture', 'numbers.txt', 'for i in range(1,10):\\\\n    print(i)\\\\n')\",\n",
       "  \"get_ipython().run_cell_magic('capture', 'numbers', 'for i in range(1,10):\\\\n    print(i)\\\\n')\",\n",
       "  'numbers.stdout',\n",
       "  'squares = []\\nfor n in range(1,1000):\\n      squares.append(n * n)',\n",
       "  'squares2 = [ n * n  for n in range(1,1000)]',\n",
       "  \"get_ipython().run_cell_magic('timeit', '', 'squares = []\\\\nfor n in range(1,1000):\\\\n      squares.append(n * n)\\\\n')\",\n",
       "  \"get_ipython().run_cell_magic('timeit', '-n 10', 'squares = []\\\\nfor n in range(1,1000):\\\\n      squares.append(n * n)\\\\n')\",\n",
       "  \"get_ipython().run_cell_magic('timeit', '-n 10', 'squares2 = [ n * n  for n in range(1,1000)]\\\\n')\",\n",
       "  \"get_ipython().run_cell_magic('timeit', '-n 100', 'squares = []\\\\nfor n in range(1,1000):\\\\n      squares.append(n * n)\\\\n')\",\n",
       "  \"get_ipython().run_cell_magic('timeit', '-n 100', 'squares2 = [ n * n  for n in range(1,1000)]\\\\n')\",\n",
       "  \"get_ipython().run_cell_magic('timeit', '-n 5', 'squares = []\\\\nfor n in range(1,1000):\\\\n      squares.append(n * n)\\\\n')\",\n",
       "  \"get_ipython().run_cell_magic('timeit', '-n 5', 'squares2 = [ n * n  for n in range(1,1000)]\\\\n')\",\n",
       "  'get_ipython().run_cell_magic(\\'js\\', \\'\\', \\'// alert(\"Hello!\")\\\\n\\')',\n",
       "  'a = 10\\n\\nb = 20\\nc = 30',\n",
       "  'print(a)',\n",
       "  'Out',\n",
       "  'Out[26]',\n",
       "  'In',\n",
       "  'Out']}"
      ]
     },
     "execution_count": 42,
     "metadata": {},
     "output_type": "execute_result"
    }
   ],
   "source": [
    "Out"
   ]
  },
  {
   "cell_type": "code",
   "execution_count": null,
   "metadata": {},
   "outputs": [],
   "source": []
  }
 ],
 "metadata": {
  "kernelspec": {
   "display_name": "Python 3",
   "language": "python",
   "name": "python3"
  },
  "language_info": {
   "codemirror_mode": {
    "name": "ipython",
    "version": 3
   },
   "file_extension": ".py",
   "mimetype": "text/x-python",
   "name": "python",
   "nbconvert_exporter": "python",
   "pygments_lexer": "ipython3",
   "version": "3.7.6"
  }
 },
 "nbformat": 4,
 "nbformat_minor": 4
}
