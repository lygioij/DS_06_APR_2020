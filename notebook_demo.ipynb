{
 "cells": [
  {
   "cell_type": "code",
   "execution_count": 2,
   "metadata": {},
   "outputs": [],
   "source": [
    "a = 10"
   ]
  },
  {
   "cell_type": "code",
   "execution_count": 3,
   "metadata": {},
   "outputs": [
    {
     "name": "stdout",
     "output_type": "stream",
     "text": [
      "10\n"
     ]
    }
   ],
   "source": [
    "print(a)"
   ]
  },
  {
   "cell_type": "code",
   "execution_count": 4,
   "metadata": {
    "collapsed": true,
    "jupyter": {
     "outputs_hidden": true
    }
   },
   "outputs": [
    {
     "name": "stdout",
     "output_type": "stream",
     "text": [
      "1 - 1\n",
      "2 - 4\n",
      "3 - 9\n",
      "4 - 16\n",
      "5 - 25\n",
      "6 - 36\n",
      "7 - 49\n",
      "8 - 64\n",
      "9 - 81\n"
     ]
    }
   ],
   "source": [
    "for i in range(1,a):\n",
    "     print(f\"{i} - {i * i}\")"
   ]
  },
  {
   "cell_type": "code",
   "execution_count": 1,
   "metadata": {},
   "outputs": [],
   "source": [
    "import requests"
   ]
  },
  {
   "cell_type": "code",
   "execution_count": 2,
   "metadata": {
    "collapsed": true,
    "jupyter": {
     "outputs_hidden": true
    }
   },
   "outputs": [
    {
     "data": {
      "text/plain": [
       "'<?xml version=\"1.0\" encoding=\"UTF-8\" ?>\\r\\n<rss version=\"2.0\">\\r\\n <channel>\\r\\n  <title>Srikanth Technologies By P.Srikanth</title>\\r\\n  <link>http://www.srikanthtechnologies.com</link>\\r\\n  <description>Website of Srikanth Technologies, which is founded and run by Srikanth Pragada. He has more than \\r\\n  16 years of experience in training and a Sun Certified Java Programmer (SCJP 5.0), Sun Certified Web Component Developer (SCWCD 1.4)\\r\\n  ,Sun Certified Business Component Developer (SCBCD 5.0), Microsoft Certified Technology Specialist for .NET 4 (Web Applications),\\r\\n  Oracle Certified SQL Expert and Oracle Certified PL/SQL Associate.\\r\\n  </description>\\r\\n  <lastBuildDate>Tue, 10 Mar 2020 17:00:00 IST</lastBuildDate>\\r\\n  <generator></generator>\\r\\n  <docs></docs>\\r\\n\\r\\n  <item>\\r\\n     <title>Video Tutorial - Learning Path for Software Developers</title>\\r\\n     <link>https://youtu.be/tB0VH-2AoBI</link>\\r\\n     <description>\\r\\n     Here is recommended learning path to follow for students aspiring to become web and mobile application developers.\\r\\n     </description>\\r\\n     <pubDate>Fri, 13 Mar 2020 17:30:00</pubDate>\\r\\n   </item>\\r\\n\\r\\n\\r\\n\\r\\n   <item>\\r\\n     <title>Video Tutorial - Compile-time Polymorphism vs. Runtime Polymorphism</title>\\r\\n     <link>https://youtu.be/MkBelZskmNc</link>\\r\\n     <description>\\r\\n       In this video, you learn the difference between Compile-time Polymorphism and Runtime Polymorphism in Java\\r\\n     </description>\\r\\n     <pubDate>Tue, 10 Mar 2020 14:00:00</pubDate>\\r\\n   </item>\\r\\n\\r\\n\\r\\n   <item>\\r\\n     <title>\\r\\n       Blog -  To-dos Application using Spring MVC + Hibernate + Derby\\r\\n     </title>\\r\\n     <link>http://www.srikanthtechnologies.com/blog/java/spring/spring_hibernate_todos.aspx</link>\\r\\n     <description>\\r\\n       This blog shows how to build a web application developed using Spring MVC + Hibernate + Derby to keep track of To-dos\\r\\n     </description>\\r\\n     <pubDate>Sun, 01 Mar 2020 11:30:00</pubDate>\\r\\n   </item>\\r\\n\\r\\n   <item>\\r\\n     <title>\\r\\n       Blog - How to use Apache Derby from JDBC\\r\\n     </title>\\r\\n     <link>http://www.srikanthtechnologies.com/blog/java/using_derby.aspx</link>\\r\\n     <description>\\r\\n      In this blog you learn how to access Apache Derby (Java DB) from JDBC\\r\\n     </description>\\r\\n     <pubDate>Sat, 29 Feb 2020 11:00:00</pubDate>\\r\\n   </item>\\r\\n\\r\\n   <item>\\r\\n     <title>Video Tutorial - Using Apache Derby (Java DB) from JDBC</title>\\r\\n     <link>https://youtu.be/flERv6JErPo</link>\\r\\n     <description>\\r\\n       In this video, you learn how to access Apache Derby (Java DB) from JDBC\\r\\n     </description>\\r\\n     <pubDate>Sat, 29 Feb 2020 11:00:00</pubDate>\\r\\n   </item>\\r\\n\\r\\n   <item>\\r\\n     <title>Video Tutorial - How to integrate Tomcat with Eclipse</title>\\r\\n     <link>https://youtu.be/flERv6JErPo</link>\\r\\n     <description>\\r\\n     In this video, you learn how to add Tomcat server to Eclipse IDE\\r\\n    </description>\\r\\n     <pubDate>Mon, 10 Feb 2020 17:00:00</pubDate>\\r\\n   </item>\\r\\n\\r\\n\\r\\n\\r\\n   <item>\\r\\n     <title>\\r\\n       Blog - Looking back at 2019\\r\\n     </title>\\r\\n     <link>http://www.srikanthtechnologies.com/blog/personal/2019/lookback2019.aspx</link>\\r\\n     <description>\\r\\n       Blog - A summary of important events of my life in 2019.\\r\\n     </description>\\r\\n     <pubDate>Wed, 1 Jan 2020 10:00:00</pubDate>\\r\\n   </item>\\r\\n\\r\\n   <item>\\r\\n     <title>\\r\\n       Blog - New features of Python 3.8\\r\\n     </title>\\r\\n     <link>http://www.srikanthtechnologies.com/blog/python/new_features_3.8.aspx</link>\\r\\n     <description>\\r\\n     In this blog, I show how to use new features of Python 3.8.\\r\\n     </description>\\r\\n     <pubDate>Sat, 30 Nov 2019 09:00:00</pubDate>\\r\\n   </item>\\r\\n\\r\\n  <item>\\r\\n     <title>Video Tutorial - Upcasting and Downcasting in Java\\r\\n   </title>\\r\\n     <link>https://youtu.be/s7_QoTP1x_g</link>\\r\\n     <description>\\r\\n     In this video, I explain upcasting and downcasting in Java\\r\\n    </description>\\r\\n     <pubDate>Wed, 27 Nov 2019 09:00:00</pubDate>\\r\\n   </item>\\r\\n\\r\\n\\r\\n  <item>\\r\\n     <title>Video Tutorial - How to use Lamdba Expressions in Java\\r\\n   </title>\\r\\n     <link>https://youtu.be/nYw5ckaEIS0</link>\\r\\n     <description>\\r\\n     In this video, I demonstrate how to use Lambda Expression, Lambda Blocks, and Method Reference in Java 8 and above. \\r\\n    </description>\\r\\n     <pubDate>Sun, 24 Nov 2019 09:00:00</pubDate>\\r\\n   </item>\\r\\n\\r\\n\\r\\n  <item>\\r\\n     <title>Video Tutorial - Top-N Analysis in Oracle Database\\r\\n   </title>\\r\\n     <link>https://youtu.be/n3-4y8XAKEY</link>\\r\\n     <description>\\r\\n     In this video, I show how to perform Top-N Analysis in Oracle Database 11g and 18c.\\r\\n    </description>\\r\\n     <pubDate>Tue, 19 Nov 2019 09:00:00</pubDate>\\r\\n   </item>\\r\\n   \\r\\n   <item>\\r\\n     <title>Video Tutorial - Why to override equals(), hashCode() and toString() methods \\r\\n     of Object class in Java.     \\r\\n   </title>\\r\\n     <link>https://youtu.be/WB1Jia3sXh0</link>\\r\\n     <description>\\r\\n     In this video, I explain why to overriding equals(), hashCode() and toString() methods of\\r\\n     Object class in Java.\\r\\n    </description>\\r\\n     <pubDate>Sat, 16 Nov 2019 09:00:00</pubDate>\\r\\n   </item>\\r\\n   \\r\\n   \\r\\n   <item>\\r\\n     <title>Video Tutorial - Understand how method resolution order(MRO) works with Multiple Inheritance\\r\\n     in Python.\\r\\n   </title>\\r\\n     <link>https://youtu.be/tViLEZXUO3U</link>\\r\\n     <description>\\r\\n     In this video, I explain how MRO (Method Resolution Order) works in Python while\\r\\n     implementing multiple inheritance.\\r\\n     </description>\\r\\n     <pubDate>Fri, 15 Nov 2019 09:00:00</pubDate>\\r\\n   </item>\\r\\n   \\r\\n   <item>\\r\\n     <title>Video Tutorial - Learn how to get started with Django Framework\\r\\n   </title>\\r\\n     <link>https://youtu.be/N0h0v_3FvRE</link>\\r\\n     <description>\\r\\n      This video shows how to install Django, create project and application in Django Framework.\\r\\n     </description>\\r\\n     <pubDate>Thu, 14 Nov 2019 09:00:00</pubDate>\\r\\n   </item>\\r\\n\\r\\n   <item>\\r\\n     <title>Blog - Deploying Machine Learning Model</title>\\r\\n     <link>http://www.srikanthtechnologies.com/blog/python/deploy_model/deploy_ml_model.aspx</link>\\r\\n     <description>\\r\\n       In this blog, I show how to build and deploy a Machine Learning model so that it can be used\\r\\n       from a Web Application built with Django.\\r\\n     </description>\\r\\n     <pubDate>Sat, 02 Nov 2019 12:00:00</pubDate>\\r\\n   </item>\\r\\n\\r\\n   <item>\\r\\n     <title>Video Tutorial - How to use SQL Developer with Oracle Database 18c XE\\r\\n   </title>\\r\\n     <link>https://youtu.be/oQ92BaGuvdI</link>\\r\\n     <description>\\r\\n      This video shows how to install SQL Developer and connect to pluggable database in Oracle Database 18c Express Edition (XE).\\r\\n     </description>\\r\\n     <pubDate>Tue, 27 Aug 2019 09:00:00</pubDate>\\r\\n   </item>\\r\\n\\r\\n\\r\\n   <item>\\r\\n     <title>Video Tutorial - How to install Oracle Database 18c XE and unlock HR account\\r\\n   </title>\\r\\n     <link>https://youtu.be/wKvojzCCdBk</link>\\r\\n     <description>\\r\\n      This video shows how to install Oracle Database 18c XE and connect to pluggable database without having to change any configuration files in Oracle. It also shows how to unlock HR account in pluggable database.\\r\\n     </description>\\r\\n     <pubDate>Tue, 27 Aug 2019 09:00:00</pubDate>\\r\\n   </item>\\r\\n\\r\\n   <item>\\r\\n     <title>New edition of - C Language For Beginners - book available now</title>\\r\\n     <link>http://www.srikanthtechnologies.com/books/cbook_2019/cbook.aspx</link>\\r\\n     <description>\\r\\n     Enhanced - C Language For Beginners - book and made hard copy available at Srikanth Technologies\\r\\n     and Kindle version at Amazon.\\r\\n     </description>\\r\\n     <pubDate>Sun, 25 Aug 2019 12:00:00</pubDate>\\r\\n   </item>\\r\\n   \\r\\n   <item>\\r\\n     <title>My Favourites </title>\\r\\n     <link>http://www.srikanthtechnologies.com/favourites.aspx</link>\\r\\n     <description>\\r\\n      Added a new section in which I listed my favourite websites, books and videos.\\r\\n     </description>\\r\\n     <pubDate>Sat, 24 Aug 2019 12:00:00</pubDate>\\r\\n   </item>\\r\\n\\r\\n   <item>\\r\\n     <title>Blog - Enable CORS in Django</title>\\r\\n     <link>http://www.srikanthtechnologies.com/blog/python/enable_cors_for_django.aspx</link>\\r\\n     <description>\\r\\n       In this blog, we understand how to enable CORS (Cross-Origin Resource Sharing) in Django.\\r\\n     </description>\\r\\n     <pubDate>Tue, 09 Jul 2019 12:00:00</pubDate>\\r\\n   </item>\\r\\n   \\r\\n\\r\\n   <item>\\r\\n     <title>Blog - Oracle + Django ORM</title>\\r\\n     <link>http://www.srikanthtechnologies.com/blog/python/django_oracle_orm.aspx</link>\\r\\n     <description>\\r\\n       In this blog, we understand how to access Oracle database using Django ORM.\\r\\n     </description>\\r\\n     <pubDate>Wed, 26 Jun 2019 12:00:00</pubDate>\\r\\n   </item>\\r\\n\\r\\n   <item>\\r\\n     <title>Blog - Deploying Spring MVC Application To Tomcat</title>\\r\\n     <link>http://www.srikanthtechnologies.com/blog/java/spring/deploy_springmvc.aspx</link>\\r\\n     <description>\\r\\n       In this blog, I walk you through the steps to deploy a Spring MVC application developed \\r\\n       using Spring Boot to Tomcat Server.\\r\\n     </description>\\r\\n     <pubDate>Sat, 22 Jun 2019 12:00:00</pubDate>\\r\\n   </item>\\r\\n\\r\\n   \\r\\n   <item>\\r\\n     <title>Blog - How to use jQuery Datepicker in Angular</title>\\r\\n     <link>http://www.srikanthtechnologies.com/blog/angular/angular_jquery.aspx</link>\\r\\n     <description>\\r\\n      In this blog, I show how to use jQuery UI\\'s Datepicker component in Angular to take date from user.\\r\\n     </description>\\r\\n     <pubDate>Mon, 06 May 2019 12:00:00</pubDate>\\r\\n   </item>\\r\\n\\r\\n\\r\\n    <item>\\r\\n     <title>Blog - Looking back at 2018</title>\\r\\n     <link>http://www.srikanthtechnologies.com/blog/personal/2018/lookback2018.aspx</link>\\r\\n     <description>\\r\\n       Here is a summary of events in my life in 2018.\\r\\n     </description>\\r\\n     <pubDate>Sat, 5 Jan 2019 12:00:00</pubDate>\\r\\n   </item>\\r\\n\\r\\n   <item>\\r\\n     <title>Blog - Adding JAR to Local Repository</title>\\r\\n     <link>http://www.srikanthtechnologies.com/blog/java/localrepo.aspx</link>\\r\\n     <description>\\r\\n       In this blog, I show how to add a JAR file to Local Repository so that Maven can use it.\\r\\n     </description>\\r\\n     <pubDate>Wed, 31 OCT 2018 12:00:00</pubDate>\\r\\n   </item>\\r\\n\\r\\n\\r\\n   <item>\\r\\n     <title>\\r\\n       My new course - \\'C\\' Interview Questions - at Udemy\\r\\n     </title>\\r\\n     <link>http://www.srikanthtechnologies.com/blog/personal/udemy_course.aspx</link>\\r\\n     <description>\\r\\n     Here is my new FREE course at Udemy to help students prepare for C Language Interviews.\\r\\n     </description>\\r\\n     <pubDate>Thu, 25 Oct 2018 09:00:00</pubDate>\\r\\n   </item>\\r\\n   \\r\\n  \\r\\n </channel>\\r\\n</rss>\\r\\n'"
      ]
     },
     "execution_count": 2,
     "metadata": {},
     "output_type": "execute_result"
    }
   ],
   "source": [
    "resp = requests.get(\"http://www.srikanthtechnologies.com/rss.xml\")\n",
    "resp.text"
   ]
  },
  {
   "cell_type": "code",
   "execution_count": null,
   "metadata": {},
   "outputs": [],
   "source": []
  }
 ],
 "metadata": {
  "kernelspec": {
   "display_name": "Python 3",
   "language": "python",
   "name": "python3"
  },
  "language_info": {
   "codemirror_mode": {
    "name": "ipython",
    "version": 3
   },
   "file_extension": ".py",
   "mimetype": "text/x-python",
   "name": "python",
   "nbconvert_exporter": "python",
   "pygments_lexer": "ipython3",
   "version": "3.7.6"
  }
 },
 "nbformat": 4,
 "nbformat_minor": 4
}
